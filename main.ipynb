{
 "cells": [
  {
   "cell_type": "code",
   "id": "8f13315579c7e03",
   "metadata": {
    "ExecuteTime": {
     "end_time": "2024-12-11T05:13:27.403926Z",
     "start_time": "2024-12-11T05:13:26.458920Z"
    }
   },
   "source": [
    "# imports and settings\n",
    "import pandas as pd\n",
    "import warnings\n",
    "from time import time\n",
    "from sklearn.model_selection import train_test_split as split\n",
    "from sklearn.ensemble import RandomForestClassifier\n",
    "from sklearn.metrics import balanced_accuracy_score, confusion_matrix, precision_score, recall_score, \\\n",
    "    ConfusionMatrixDisplay, roc_auc_score\n",
    "from pickle import dump as store_model\n",
    "from pickle import load as load_model\n",
    "from os.path import isdir as is_dir\n",
    "from os import mkdir\n",
    "from sklearn.metrics import classification_report\n",
    "from sklearn.neighbors import KNeighborsClassifier\n",
    "\n",
    "warnings.filterwarnings(\"ignore\", category=pd.errors.DtypeWarning)\n",
    "\n",
    "# define variables and settings\n",
    "DATA_PATH = \"data/processed data/cleaned_data.csv\"\n",
    "HOLDOUT_PATH = \"data/processed data/holdout_cleaned.csv\"\n",
    "\n",
    "MODEL_DIR = \"models\"\n",
    "METRIC_DIR = \"metrics\"\n",
    "TRAIN_DATA = \"data/processed data/cleaned_train.csv\"\n",
    "TEST_DATA = \"data/processed data/cleaned_test.csv\"\n",
    "\n",
    "SAVE_MODELS = False # save trained models\n",
    "LOAD_MODELS = False # load pre-trained models or train new ones\n",
    "DO_LOGGING = True\n",
    "\n",
    "DO_KNN = True\n",
    "DO_RF = True\n",
    "\n",
    "# k-Nearest Neighbor settings\n",
    "N_NEAREST_NEIGHBORS = 2\n",
    "DISTANCE_TYPE = 'euclidean' # euclidean or manhattan\n",
    "\n",
    "# random forest settings\n",
    "N_ESTIMATORS = 100\n",
    "MAX_LEAF_NODES = None\n",
    "MAX_DEPTH = None\n",
    "\n",
    "# define functions\n",
    "def log(text: str):\n",
    "    if DO_LOGGING:\n",
    "        print(f\"{text}  {time_check()}\")\n",
    "    else:\n",
    "        pass\n",
    "\n",
    "time_checkpoint = time()\n",
    "def time_check():\n",
    "    global time_checkpoint\n",
    "    out = \"[\"\n",
    "    time_elapsed = round(time() - time_checkpoint, 2)\n",
    "    time_checkpoint = time()\n",
    "    if time_elapsed > 60:\n",
    "        out += f\"{int(time_elapsed/60)} min, \"\n",
    "    out += f\"{round(time_elapsed % 60, 2)} sec]\"\n",
    "    return out\n",
    "\n",
    "def get_metrics(train_pred, test_pred, model_type):\n",
    "\n",
    "    assert model_type in [\"k Nearest Neighbor\", \"Random Forest\"]\n",
    "    output = \"\"\n",
    "    # displaying settings\n",
    "    output += \"# Settings\\n\"\n",
    "    output += f\"**Model**: {model_type}\\n\"\n",
    "    if model_type == 'k Nearest Neighbor':\n",
    "        output += f\"- Num Neighbors = {N_NEAREST_NEIGHBORS}\\n\"\n",
    "        output += f\"- Distance = {DISTANCE_TYPE}\\n\"\n",
    "    elif  model_type == \"Random Forest\":\n",
    "        output += f\"- Num Estimators: {N_ESTIMATORS}\\n\"\n",
    "        output += f\"- Max Depth: {MAX_DEPTH}\\n\"\n",
    "        output += f\"- Max Leaf Nodes: {MAX_LEAF_NODES}\\n\"\n",
    "\n",
    "    output += f\"\\n**Features**: \"\n",
    "    for col in TRAIN_X.columns:\n",
    "        output += f\" '{col}' \"\n",
    "    output += \"\\n\"\n",
    "\n",
    "    for title, y, pred in [[\"Test\", TEST_Y, test_pred], [\"Train\", TRAIN_Y, train_pred]]:\n",
    "\n",
    "        # calculating metrics\n",
    "        b_accuracy = balanced_accuracy_score(y, pred)\n",
    "        conf_matrix = confusion_matrix(y, pred)\n",
    "        class_report = classification_report(y, pred, output_dict=True)\n",
    "\n",
    "        # displaying metrics in MD formatting (uses table formatting)\n",
    "        output += f\"\\n---\\n# {title} metrics\\n\"\n",
    "        output += \"### Classification Report:\\n\"\n",
    "        output += (f\"| | Precision | Recall | f1-Score | Support |\\n\"\n",
    "                   f\"| ---: | :---: | :---: | :---: | :---: |\\n\"\n",
    "                   f\"| **DEM** | {round(class_report['DEMOCRAT']['precision'], 2)} | {round(class_report['DEMOCRAT']['recall'], 2)} | {round(class_report['DEMOCRAT']['f1-score'], 2)} | {int(class_report['DEMOCRAT']['support'])} |\\n\"\n",
    "                   f\"| **IND** | {round(class_report['INDEPENDENT']['precision'], 2)} | {round(class_report['INDEPENDENT']['recall'], 2)} | {round(class_report['INDEPENDENT']['f1-score'], 2)} | {int(class_report['INDEPENDENT']['support'])} |\\n\"\n",
    "                   f\"| **REP** | {round(class_report['REPUBLICAN']['precision'], 2)} | {round(class_report['REPUBLICAN']['recall'], 2)} | {round(class_report['REPUBLICAN']['f1-score'], 2)} | {int(class_report['REPUBLICAN']['support'])} |\\n\"\n",
    "                   f\"| **Macro Avg** | {round(class_report['macro avg']['precision'], 2)} | {round(class_report['macro avg']['recall'], 2)} | {round(class_report['macro avg']['f1-score'], 2)} | {int(class_report['macro avg']['support'])} |\\n\"\n",
    "                   f\"| **Weighted Avg** | `{round(class_report['weighted avg']['precision'], 2)}` | `{round(class_report['weighted avg']['recall'], 2)}` | `{round(class_report['weighted avg']['f1-score'], 2)}` | {int(class_report['weighted avg']['support'])} |\\n\\n\")\n",
    "        output += f\"**Accuracy**: {round(class_report['accuracy'], 2)}\\t**Balanced Accuracy**: {round(b_accuracy, 2)}\\n\"\n",
    "\n",
    "        output += f\"### **Confusion Matrix**:\\n\"\n",
    "        output += (f\"| **True / Predicted** | DEM | IND | REP |\\n\"\n",
    "                   f\"| --: | :---: | :---: | :---: |\\n\"\n",
    "                   f\"| **DEM** | `{conf_matrix[0][0]}` | {conf_matrix[0][1]} | {conf_matrix[0][2]} |\\n\"\n",
    "                   f\"| **IND** | {conf_matrix[1][0]} | `{conf_matrix[1][1]}` | {conf_matrix[1][2]} |\\n\"\n",
    "                   f\"| **REP** | {conf_matrix[2][0]} | {conf_matrix[2][1]} | `{conf_matrix[2][2]}` |\\n\")\n",
    "\n",
    "    return output"
   ],
   "outputs": [],
   "execution_count": 1
  },
  {
   "metadata": {
    "ExecuteTime": {
     "end_time": "2024-12-11T05:13:28.006299Z",
     "start_time": "2024-12-11T05:13:27.425936Z"
    }
   },
   "cell_type": "code",
   "source": [
    "# load data\n",
    "time_check()\n",
    "TRAIN = pd.read_csv(TRAIN_DATA)\n",
    "log(\"Loaded training data\")\n",
    "TEST = pd.read_csv(TEST_DATA)\n",
    "log(\"Loaded test data\")\n",
    "\n",
    "TRAIN_X = TRAIN.drop(['party'], axis='columns')\n",
    "TRAIN_Y = TRAIN['party']\n",
    "\n",
    "TEST_X = TEST.drop(['party'], axis='columns')\n",
    "TEST_Y = TEST['party']\n",
    "\n",
    "log(\"Split all data into X and Y frames\")"
   ],
   "id": "3d001e4a33e23473",
   "outputs": [
    {
     "name": "stdout",
     "output_type": "stream",
     "text": [
      "Loaded training data  [0.3 sec]\n",
      "Loaded test data  [0.27 sec]\n",
      "Split all data into X and Y frames  [0.01 sec]\n"
     ]
    }
   ],
   "execution_count": 2
  },
  {
   "metadata": {
    "ExecuteTime": {
     "end_time": "2024-12-11T05:14:37.338612Z",
     "start_time": "2024-12-11T05:13:28.188018Z"
    }
   },
   "cell_type": "code",
   "source": [
    "# k-Nearest Neighbor\n",
    "time_check()\n",
    "if DO_KNN:\n",
    "    if LOAD_MODELS:\n",
    "        with open (f\"{MODEL_DIR}/kNN.pkl\", \"rb\") as file:\n",
    "            knn_model = load_model(file)\n",
    "        log(f\"Loaded kNN from {MODEL_DIR}/kNN.pkl\")\n",
    "    else:\n",
    "        if DISTANCE_TYPE == 'euclidean':\n",
    "            p = 2\n",
    "        elif DISTANCE_TYPE == 'manhattan':\n",
    "            p = 1\n",
    "        else:\n",
    "            log(f\"kNN Distance type {DISTANCE_TYPE} not supported.\")\n",
    "\n",
    "        knn_model = KNeighborsClassifier(p=p, n_neighbors=N_NEAREST_NEIGHBORS)\n",
    "        knn_model.fit(TRAIN_X, TRAIN_Y)\n",
    "        log(\"Fitted kNN to training data\")\n",
    "\n",
    "        if SAVE_MODELS:\n",
    "            with open(f\"{MODEL_DIR}/kNN.pkl\", \"wb\") as file:\n",
    "                store_model(knn_model, file)\n",
    "            log(f\"Saved kNN to '{MODEL_DIR}/kNN.pkl'\")\n",
    "\n",
    "    knn_train_pred = knn_model.predict(TRAIN_X)\n",
    "    log(\"kNN made predictions on training data\")\n",
    "    knn_test_pred = knn_model.predict(TEST_X)\n",
    "    log(\"kNN made predictions on test data\")\n",
    "\n",
    "    with open(f\"{METRIC_DIR}/kNN metrics.md\", 'w') as file:\n",
    "        file.write(get_metrics(knn_train_pred, knn_test_pred, \"k Nearest Neighbor\"))\n",
    "    log(f\"kNN metrics saved to '{METRIC_DIR}/kNN metrics.md'\")\n"
   ],
   "id": "e76e610f2801571e",
   "outputs": [
    {
     "name": "stdout",
     "output_type": "stream",
     "text": [
      "Fitted kNN to training data  [1.35 sec]\n",
      "kNN made predictions on training data  [25.16 sec]\n",
      "kNN made predictions on test data  [17.9 sec]\n",
      "kNN metrics saved to 'metrics/kNN metrics.md'  [24.73 sec]\n"
     ]
    }
   ],
   "execution_count": 3
  },
  {
   "metadata": {
    "ExecuteTime": {
     "end_time": "2024-12-11T05:16:23.533774Z",
     "start_time": "2024-12-11T05:14:37.429645Z"
    }
   },
   "cell_type": "code",
   "source": [
    "# random forest\n",
    "time_check()\n",
    "if DO_RF:\n",
    "    if LOAD_MODELS:\n",
    "        with open (f\"{MODEL_DIR}/random_forest.pkl\", \"rb\") as file:\n",
    "            rf_model = load_model(file)\n",
    "        log(f\"Loaded random forest from {MODEL_DIR}/random_forest.pkl\")\n",
    "    else:\n",
    "        rf_model = RandomForestClassifier(n_estimators=N_ESTIMATORS, max_depth=MAX_DEPTH, max_leaf_nodes=MAX_LEAF_NODES)\n",
    "        rf_model.fit(TRAIN_X, TRAIN_Y)\n",
    "        log(\"Fitted random forest to training data\")\n",
    "\n",
    "        if SAVE_MODELS:\n",
    "            with open(f\"{MODEL_DIR}/random_forest.pkl\", \"wb\") as file:\n",
    "                store_model(rf_model, file)\n",
    "            log(f\"Saved random forest to '{MODEL_DIR}/random_forest.pkl'\")\n",
    "\n",
    "    rf_train_pred = rf_model.predict(TRAIN_X)\n",
    "    log(\"Random Forest made predictions on training data\")\n",
    "    rf_test_pred = rf_model.predict(TEST_X)\n",
    "    log(\"Random Forest made predictions on test data\")\n",
    "\n",
    "    with open(f\"{METRIC_DIR}/random_forest metrics.md\", 'w') as file:\n",
    "        file.write(get_metrics(rf_train_pred, rf_test_pred, \"Random Forest\"))\n",
    "    log(f\"Random Forest metrics saved to '{METRIC_DIR}/random_forest metrics.md'\")\n"
   ],
   "id": "f4dc80a1a649307",
   "outputs": [
    {
     "name": "stdout",
     "output_type": "stream",
     "text": [
      "Fitted random forest to training data  [1 min, 4.88 sec]\n",
      "Random Forest made predictions on training data  [8.57 sec]\n",
      "Random Forest made predictions on test data  [9.22 sec]\n",
      "Random Forest metrics saved to 'metrics/random_forest metrics.md'  [23.42 sec]\n"
     ]
    }
   ],
   "execution_count": 4
  }
 ],
 "metadata": {
  "kernelspec": {
   "display_name": "Python 3",
   "language": "python",
   "name": "python3"
  },
  "language_info": {
   "codemirror_mode": {
    "name": "ipython",
    "version": 2
   },
   "file_extension": ".py",
   "mimetype": "text/x-python",
   "name": "python",
   "nbconvert_exporter": "python",
   "pygments_lexer": "ipython2",
   "version": "2.7.6"
  }
 },
 "nbformat": 4,
 "nbformat_minor": 5
}
